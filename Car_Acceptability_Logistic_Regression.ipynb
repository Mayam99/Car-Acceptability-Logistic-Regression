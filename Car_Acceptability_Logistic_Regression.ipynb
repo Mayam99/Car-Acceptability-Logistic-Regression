{
  "nbformat": 4,
  "nbformat_minor": 0,
  "metadata": {
    "colab": {
      "provenance": []
    },
    "kernelspec": {
      "name": "python3",
      "display_name": "Python 3"
    },
    "language_info": {
      "name": "python"
    }
  },
  "cells": [
    {
      "cell_type": "markdown",
      "source": [
        "##Introduction to the Car Acceptability Classification Database\n",
        "The Car Acceptability Classification Database is derived from a hierarchical decision model initially developed to demonstrate DEX, an expert system for decision-making. The original work by M. Bohanec and V. Rajkovic, titled \"Expert System for Decision Making,\" was published in Sistemica 1(1), pp. 145-157, 1990. This dataset serves as a practical illustration of evaluating cars based on various criteria and is widely used for classification tasks in machine learning.\n",
        "\n",
        "Background and Purpose\n",
        "The primary purpose of this dataset is to evaluate cars according to a structured model that considers multiple attributes. The decision model simplifies complex evaluations by breaking them down into more manageable sub-decisions, following a hierarchical approach. This type of model is particularly useful in expert systems where decisions are made based on a set of rules derived from domain knowledge.\n",
        "\n",
        "Dataset Description\n",
        "\n",
        "The dataset comprises six features and one target variable:\n",
        "\n",
        "1) Buying Price:\n",
        "\n",
        "Represents the initial cost of the car.\n",
        "Possible values: vhigh (very high), high, med (medium), low.\n",
        "\n",
        "2) Maintenance Price:\n",
        "\n",
        "Represents the cost associated with maintaining the car.\n",
        "Possible values: vhigh, high, med, low.\n",
        "\n",
        "3) Number of Doors:\n",
        "\n",
        "Indicates the number of doors on the car.\n",
        "Possible values: 2, 3, 4, 5more.\n",
        "\n",
        "4) Person Capacity:\n",
        "\n",
        "Represents the maximum number of persons the car can carry.\n",
        "Possible values: 2, 4, more.\n",
        "\n",
        "5) Size of Luggage Boot:\n",
        "\n",
        "Describes the capacity of the luggage boot.\n",
        "Possible values: small, med, big.\n",
        "\n",
        "6) Safety:\n",
        "\n",
        "Indicates the safety level of the car.\n",
        "Possible values: low, med, high.\n",
        "\n",
        "7) Car Acceptability (Target Variable):\n",
        "\n",
        "Classifies the car based on the aforementioned features.\n",
        "Possible values: unacc (unacceptable), acc (acceptable), good, vgood (very good).\n",
        "\n",
        "Concept Structure and Evaluation Criteria\n",
        "\n",
        "The evaluation model assesses cars using a decision tree-like structure where each node represents a decision criterion. The final acceptability of a car is determined by the combined assessment of all criteria. Here’s an overview of the concept structure:\n",
        "\n",
        "1) Price Evaluation:\n",
        "\n",
        "Comprises Buying Price and Maintenance Price.\n",
        "\n",
        "2) Capacity Evaluation:\n",
        "\n",
        "Includes Number of Doors and Person Capacity.\n",
        "\n",
        "3) Usability and Safety:\n",
        "\n",
        "Considers Size of Luggage Boot and Safety.\n",
        "\n",
        "Each feature contributes to the overall decision, influencing the car's classification as unacc, acc, good, or vgood. The hierarchical model ensures that all relevant aspects are taken into account, providing a comprehensive evaluation.\n",
        "\n",
        "Objective\n",
        "\n",
        "The primary objective of analyzing this dataset is to build a predictive model that can classify the acceptability of cars based on the given features. For this project, we will utilize a logistic regression model due to its effectiveness in binary and multiclass classification problems.\n",
        "\n",
        "Source:\n",
        "\n",
        "https://www.kaggle.com/datasets/subhajeetdas/car-acceptability-classification-dataset/data"
      ],
      "metadata": {
        "id": "Xy2TQPOMHwpc"
      }
    },
    {
      "cell_type": "code",
      "execution_count": null,
      "metadata": {
        "id": "8OItjN0v_9a4"
      },
      "outputs": [],
      "source": [
        "import pandas as pd #Importing pandas for data manipulation and analysis.\n",
        "from sklearn.model_selection import train_test_split #Importing train_test_split to split the data into training and testing sets.\n",
        "from sklearn.preprocessing import OneHotEncoder #Importing OneHotEncoder for converting categorical features into numerical format.\n",
        "from sklearn.linear_model import LogisticRegression #Importing LogisticRegression to build the logistic regression model for classification.\n",
        "from sklearn.metrics import classification_report, accuracy_score #Importing classification_report and accuracy_score for model evaluation metrics."
      ]
    },
    {
      "cell_type": "code",
      "source": [
        "df = pd.read_csv(\"car.csv\") #Reading the dataset from a CSV file into a pandas DataFrame for analysis."
      ],
      "metadata": {
        "id": "ntkuRVeMAOfZ"
      },
      "execution_count": null,
      "outputs": []
    },
    {
      "cell_type": "code",
      "source": [
        "df.head() #Displaying the first few rows of the DataFrame to get an overview of the data."
      ],
      "metadata": {
        "colab": {
          "base_uri": "https://localhost:8080/",
          "height": 206
        },
        "id": "uHRB3qddARSv",
        "outputId": "4956a5ae-6d32-4ed2-fac2-638401d9196d"
      },
      "execution_count": null,
      "outputs": [
        {
          "output_type": "execute_result",
          "data": {
            "text/plain": [
              "  Buying_Price Maintenance_Price No_of_Doors Person_Capacity Size_of_Luggage  \\\n",
              "0        vhigh             vhigh           2               2           small   \n",
              "1        vhigh             vhigh           2               2           small   \n",
              "2        vhigh             vhigh           2               2           small   \n",
              "3        vhigh             vhigh           2               2             med   \n",
              "4        vhigh             vhigh           2               2             med   \n",
              "\n",
              "  Safety Car_Acceptability  \n",
              "0    low             unacc  \n",
              "1    med             unacc  \n",
              "2   high             unacc  \n",
              "3    low             unacc  \n",
              "4    med             unacc  "
            ],
            "text/html": [
              "\n",
              "  <div id=\"df-6a8b5b47-b791-4b97-b84b-3b38f70289bf\" class=\"colab-df-container\">\n",
              "    <div>\n",
              "<style scoped>\n",
              "    .dataframe tbody tr th:only-of-type {\n",
              "        vertical-align: middle;\n",
              "    }\n",
              "\n",
              "    .dataframe tbody tr th {\n",
              "        vertical-align: top;\n",
              "    }\n",
              "\n",
              "    .dataframe thead th {\n",
              "        text-align: right;\n",
              "    }\n",
              "</style>\n",
              "<table border=\"1\" class=\"dataframe\">\n",
              "  <thead>\n",
              "    <tr style=\"text-align: right;\">\n",
              "      <th></th>\n",
              "      <th>Buying_Price</th>\n",
              "      <th>Maintenance_Price</th>\n",
              "      <th>No_of_Doors</th>\n",
              "      <th>Person_Capacity</th>\n",
              "      <th>Size_of_Luggage</th>\n",
              "      <th>Safety</th>\n",
              "      <th>Car_Acceptability</th>\n",
              "    </tr>\n",
              "  </thead>\n",
              "  <tbody>\n",
              "    <tr>\n",
              "      <th>0</th>\n",
              "      <td>vhigh</td>\n",
              "      <td>vhigh</td>\n",
              "      <td>2</td>\n",
              "      <td>2</td>\n",
              "      <td>small</td>\n",
              "      <td>low</td>\n",
              "      <td>unacc</td>\n",
              "    </tr>\n",
              "    <tr>\n",
              "      <th>1</th>\n",
              "      <td>vhigh</td>\n",
              "      <td>vhigh</td>\n",
              "      <td>2</td>\n",
              "      <td>2</td>\n",
              "      <td>small</td>\n",
              "      <td>med</td>\n",
              "      <td>unacc</td>\n",
              "    </tr>\n",
              "    <tr>\n",
              "      <th>2</th>\n",
              "      <td>vhigh</td>\n",
              "      <td>vhigh</td>\n",
              "      <td>2</td>\n",
              "      <td>2</td>\n",
              "      <td>small</td>\n",
              "      <td>high</td>\n",
              "      <td>unacc</td>\n",
              "    </tr>\n",
              "    <tr>\n",
              "      <th>3</th>\n",
              "      <td>vhigh</td>\n",
              "      <td>vhigh</td>\n",
              "      <td>2</td>\n",
              "      <td>2</td>\n",
              "      <td>med</td>\n",
              "      <td>low</td>\n",
              "      <td>unacc</td>\n",
              "    </tr>\n",
              "    <tr>\n",
              "      <th>4</th>\n",
              "      <td>vhigh</td>\n",
              "      <td>vhigh</td>\n",
              "      <td>2</td>\n",
              "      <td>2</td>\n",
              "      <td>med</td>\n",
              "      <td>med</td>\n",
              "      <td>unacc</td>\n",
              "    </tr>\n",
              "  </tbody>\n",
              "</table>\n",
              "</div>\n",
              "    <div class=\"colab-df-buttons\">\n",
              "\n",
              "  <div class=\"colab-df-container\">\n",
              "    <button class=\"colab-df-convert\" onclick=\"convertToInteractive('df-6a8b5b47-b791-4b97-b84b-3b38f70289bf')\"\n",
              "            title=\"Convert this dataframe to an interactive table.\"\n",
              "            style=\"display:none;\">\n",
              "\n",
              "  <svg xmlns=\"http://www.w3.org/2000/svg\" height=\"24px\" viewBox=\"0 -960 960 960\">\n",
              "    <path d=\"M120-120v-720h720v720H120Zm60-500h600v-160H180v160Zm220 220h160v-160H400v160Zm0 220h160v-160H400v160ZM180-400h160v-160H180v160Zm440 0h160v-160H620v160ZM180-180h160v-160H180v160Zm440 0h160v-160H620v160Z\"/>\n",
              "  </svg>\n",
              "    </button>\n",
              "\n",
              "  <style>\n",
              "    .colab-df-container {\n",
              "      display:flex;\n",
              "      gap: 12px;\n",
              "    }\n",
              "\n",
              "    .colab-df-convert {\n",
              "      background-color: #E8F0FE;\n",
              "      border: none;\n",
              "      border-radius: 50%;\n",
              "      cursor: pointer;\n",
              "      display: none;\n",
              "      fill: #1967D2;\n",
              "      height: 32px;\n",
              "      padding: 0 0 0 0;\n",
              "      width: 32px;\n",
              "    }\n",
              "\n",
              "    .colab-df-convert:hover {\n",
              "      background-color: #E2EBFA;\n",
              "      box-shadow: 0px 1px 2px rgba(60, 64, 67, 0.3), 0px 1px 3px 1px rgba(60, 64, 67, 0.15);\n",
              "      fill: #174EA6;\n",
              "    }\n",
              "\n",
              "    .colab-df-buttons div {\n",
              "      margin-bottom: 4px;\n",
              "    }\n",
              "\n",
              "    [theme=dark] .colab-df-convert {\n",
              "      background-color: #3B4455;\n",
              "      fill: #D2E3FC;\n",
              "    }\n",
              "\n",
              "    [theme=dark] .colab-df-convert:hover {\n",
              "      background-color: #434B5C;\n",
              "      box-shadow: 0px 1px 3px 1px rgba(0, 0, 0, 0.15);\n",
              "      filter: drop-shadow(0px 1px 2px rgba(0, 0, 0, 0.3));\n",
              "      fill: #FFFFFF;\n",
              "    }\n",
              "  </style>\n",
              "\n",
              "    <script>\n",
              "      const buttonEl =\n",
              "        document.querySelector('#df-6a8b5b47-b791-4b97-b84b-3b38f70289bf button.colab-df-convert');\n",
              "      buttonEl.style.display =\n",
              "        google.colab.kernel.accessAllowed ? 'block' : 'none';\n",
              "\n",
              "      async function convertToInteractive(key) {\n",
              "        const element = document.querySelector('#df-6a8b5b47-b791-4b97-b84b-3b38f70289bf');\n",
              "        const dataTable =\n",
              "          await google.colab.kernel.invokeFunction('convertToInteractive',\n",
              "                                                    [key], {});\n",
              "        if (!dataTable) return;\n",
              "\n",
              "        const docLinkHtml = 'Like what you see? Visit the ' +\n",
              "          '<a target=\"_blank\" href=https://colab.research.google.com/notebooks/data_table.ipynb>data table notebook</a>'\n",
              "          + ' to learn more about interactive tables.';\n",
              "        element.innerHTML = '';\n",
              "        dataTable['output_type'] = 'display_data';\n",
              "        await google.colab.output.renderOutput(dataTable, element);\n",
              "        const docLink = document.createElement('div');\n",
              "        docLink.innerHTML = docLinkHtml;\n",
              "        element.appendChild(docLink);\n",
              "      }\n",
              "    </script>\n",
              "  </div>\n",
              "\n",
              "\n",
              "<div id=\"df-3c53d6d4-8b8a-4c52-8d20-ea6e143f9f04\">\n",
              "  <button class=\"colab-df-quickchart\" onclick=\"quickchart('df-3c53d6d4-8b8a-4c52-8d20-ea6e143f9f04')\"\n",
              "            title=\"Suggest charts\"\n",
              "            style=\"display:none;\">\n",
              "\n",
              "<svg xmlns=\"http://www.w3.org/2000/svg\" height=\"24px\"viewBox=\"0 0 24 24\"\n",
              "     width=\"24px\">\n",
              "    <g>\n",
              "        <path d=\"M19 3H5c-1.1 0-2 .9-2 2v14c0 1.1.9 2 2 2h14c1.1 0 2-.9 2-2V5c0-1.1-.9-2-2-2zM9 17H7v-7h2v7zm4 0h-2V7h2v10zm4 0h-2v-4h2v4z\"/>\n",
              "    </g>\n",
              "</svg>\n",
              "  </button>\n",
              "\n",
              "<style>\n",
              "  .colab-df-quickchart {\n",
              "      --bg-color: #E8F0FE;\n",
              "      --fill-color: #1967D2;\n",
              "      --hover-bg-color: #E2EBFA;\n",
              "      --hover-fill-color: #174EA6;\n",
              "      --disabled-fill-color: #AAA;\n",
              "      --disabled-bg-color: #DDD;\n",
              "  }\n",
              "\n",
              "  [theme=dark] .colab-df-quickchart {\n",
              "      --bg-color: #3B4455;\n",
              "      --fill-color: #D2E3FC;\n",
              "      --hover-bg-color: #434B5C;\n",
              "      --hover-fill-color: #FFFFFF;\n",
              "      --disabled-bg-color: #3B4455;\n",
              "      --disabled-fill-color: #666;\n",
              "  }\n",
              "\n",
              "  .colab-df-quickchart {\n",
              "    background-color: var(--bg-color);\n",
              "    border: none;\n",
              "    border-radius: 50%;\n",
              "    cursor: pointer;\n",
              "    display: none;\n",
              "    fill: var(--fill-color);\n",
              "    height: 32px;\n",
              "    padding: 0;\n",
              "    width: 32px;\n",
              "  }\n",
              "\n",
              "  .colab-df-quickchart:hover {\n",
              "    background-color: var(--hover-bg-color);\n",
              "    box-shadow: 0 1px 2px rgba(60, 64, 67, 0.3), 0 1px 3px 1px rgba(60, 64, 67, 0.15);\n",
              "    fill: var(--button-hover-fill-color);\n",
              "  }\n",
              "\n",
              "  .colab-df-quickchart-complete:disabled,\n",
              "  .colab-df-quickchart-complete:disabled:hover {\n",
              "    background-color: var(--disabled-bg-color);\n",
              "    fill: var(--disabled-fill-color);\n",
              "    box-shadow: none;\n",
              "  }\n",
              "\n",
              "  .colab-df-spinner {\n",
              "    border: 2px solid var(--fill-color);\n",
              "    border-color: transparent;\n",
              "    border-bottom-color: var(--fill-color);\n",
              "    animation:\n",
              "      spin 1s steps(1) infinite;\n",
              "  }\n",
              "\n",
              "  @keyframes spin {\n",
              "    0% {\n",
              "      border-color: transparent;\n",
              "      border-bottom-color: var(--fill-color);\n",
              "      border-left-color: var(--fill-color);\n",
              "    }\n",
              "    20% {\n",
              "      border-color: transparent;\n",
              "      border-left-color: var(--fill-color);\n",
              "      border-top-color: var(--fill-color);\n",
              "    }\n",
              "    30% {\n",
              "      border-color: transparent;\n",
              "      border-left-color: var(--fill-color);\n",
              "      border-top-color: var(--fill-color);\n",
              "      border-right-color: var(--fill-color);\n",
              "    }\n",
              "    40% {\n",
              "      border-color: transparent;\n",
              "      border-right-color: var(--fill-color);\n",
              "      border-top-color: var(--fill-color);\n",
              "    }\n",
              "    60% {\n",
              "      border-color: transparent;\n",
              "      border-right-color: var(--fill-color);\n",
              "    }\n",
              "    80% {\n",
              "      border-color: transparent;\n",
              "      border-right-color: var(--fill-color);\n",
              "      border-bottom-color: var(--fill-color);\n",
              "    }\n",
              "    90% {\n",
              "      border-color: transparent;\n",
              "      border-bottom-color: var(--fill-color);\n",
              "    }\n",
              "  }\n",
              "</style>\n",
              "\n",
              "  <script>\n",
              "    async function quickchart(key) {\n",
              "      const quickchartButtonEl =\n",
              "        document.querySelector('#' + key + ' button');\n",
              "      quickchartButtonEl.disabled = true;  // To prevent multiple clicks.\n",
              "      quickchartButtonEl.classList.add('colab-df-spinner');\n",
              "      try {\n",
              "        const charts = await google.colab.kernel.invokeFunction(\n",
              "            'suggestCharts', [key], {});\n",
              "      } catch (error) {\n",
              "        console.error('Error during call to suggestCharts:', error);\n",
              "      }\n",
              "      quickchartButtonEl.classList.remove('colab-df-spinner');\n",
              "      quickchartButtonEl.classList.add('colab-df-quickchart-complete');\n",
              "    }\n",
              "    (() => {\n",
              "      let quickchartButtonEl =\n",
              "        document.querySelector('#df-3c53d6d4-8b8a-4c52-8d20-ea6e143f9f04 button');\n",
              "      quickchartButtonEl.style.display =\n",
              "        google.colab.kernel.accessAllowed ? 'block' : 'none';\n",
              "    })();\n",
              "  </script>\n",
              "</div>\n",
              "\n",
              "    </div>\n",
              "  </div>\n"
            ],
            "application/vnd.google.colaboratory.intrinsic+json": {
              "type": "dataframe",
              "variable_name": "df",
              "summary": "{\n  \"name\": \"df\",\n  \"rows\": 1728,\n  \"fields\": [\n    {\n      \"column\": \"Buying_Price\",\n      \"properties\": {\n        \"dtype\": \"category\",\n        \"num_unique_values\": 4,\n        \"samples\": [\n          \"high\",\n          \"low\",\n          \"vhigh\"\n        ],\n        \"semantic_type\": \"\",\n        \"description\": \"\"\n      }\n    },\n    {\n      \"column\": \"Maintenance_Price\",\n      \"properties\": {\n        \"dtype\": \"category\",\n        \"num_unique_values\": 4,\n        \"samples\": [\n          \"high\",\n          \"low\",\n          \"vhigh\"\n        ],\n        \"semantic_type\": \"\",\n        \"description\": \"\"\n      }\n    },\n    {\n      \"column\": \"No_of_Doors\",\n      \"properties\": {\n        \"dtype\": \"category\",\n        \"num_unique_values\": 4,\n        \"samples\": [\n          \"3\",\n          \"5more\",\n          \"2\"\n        ],\n        \"semantic_type\": \"\",\n        \"description\": \"\"\n      }\n    },\n    {\n      \"column\": \"Person_Capacity\",\n      \"properties\": {\n        \"dtype\": \"category\",\n        \"num_unique_values\": 3,\n        \"samples\": [\n          \"2\",\n          \"4\",\n          \"more\"\n        ],\n        \"semantic_type\": \"\",\n        \"description\": \"\"\n      }\n    },\n    {\n      \"column\": \"Size_of_Luggage\",\n      \"properties\": {\n        \"dtype\": \"category\",\n        \"num_unique_values\": 3,\n        \"samples\": [\n          \"small\",\n          \"med\",\n          \"big\"\n        ],\n        \"semantic_type\": \"\",\n        \"description\": \"\"\n      }\n    },\n    {\n      \"column\": \"Safety\",\n      \"properties\": {\n        \"dtype\": \"category\",\n        \"num_unique_values\": 3,\n        \"samples\": [\n          \"low\",\n          \"med\",\n          \"high\"\n        ],\n        \"semantic_type\": \"\",\n        \"description\": \"\"\n      }\n    },\n    {\n      \"column\": \"Car_Acceptability\",\n      \"properties\": {\n        \"dtype\": \"category\",\n        \"num_unique_values\": 4,\n        \"samples\": [\n          \"acc\",\n          \"good\",\n          \"unacc\"\n        ],\n        \"semantic_type\": \"\",\n        \"description\": \"\"\n      }\n    }\n  ]\n}"
            }
          },
          "metadata": {},
          "execution_count": 3
        }
      ]
    },
    {
      "cell_type": "code",
      "source": [
        "df.columns #Listing the column names of the DataFrame to see the available features."
      ],
      "metadata": {
        "colab": {
          "base_uri": "https://localhost:8080/"
        },
        "id": "dQNn5vAO5CZZ",
        "outputId": "da281dd7-49a1-4565-f37c-323b325b38c8"
      },
      "execution_count": null,
      "outputs": [
        {
          "output_type": "execute_result",
          "data": {
            "text/plain": [
              "Index(['Buying_Price', 'Maintenance_Price', 'No_of_Doors', 'Person_Capacity',\n",
              "       'Size_of_Luggage', 'Safety', 'Car_Acceptability'],\n",
              "      dtype='object')"
            ]
          },
          "metadata": {},
          "execution_count": 10
        }
      ]
    },
    {
      "cell_type": "code",
      "source": [
        "df.shape #Getting the number of rows and columns in the DataFrame to understand the dataset's size."
      ],
      "metadata": {
        "colab": {
          "base_uri": "https://localhost:8080/"
        },
        "id": "mqICSsHk5Gjp",
        "outputId": "a2146e66-8575-4b68-94a7-2e6a960ee666"
      },
      "execution_count": null,
      "outputs": [
        {
          "output_type": "execute_result",
          "data": {
            "text/plain": [
              "(1728, 7)"
            ]
          },
          "metadata": {},
          "execution_count": 11
        }
      ]
    },
    {
      "cell_type": "code",
      "source": [
        "df.isnull().sum() #Checking for missing values in each column of the DataFrame."
      ],
      "metadata": {
        "colab": {
          "base_uri": "https://localhost:8080/"
        },
        "id": "ucnJFING5J0w",
        "outputId": "cef66061-d882-4a70-c907-bd3383097c38"
      },
      "execution_count": null,
      "outputs": [
        {
          "output_type": "execute_result",
          "data": {
            "text/plain": [
              "Buying_Price         0\n",
              "Maintenance_Price    0\n",
              "No_of_Doors          0\n",
              "Person_Capacity      0\n",
              "Size_of_Luggage      0\n",
              "Safety               0\n",
              "Car_Acceptability    0\n",
              "dtype: int64"
            ]
          },
          "metadata": {},
          "execution_count": 12
        }
      ]
    },
    {
      "cell_type": "code",
      "source": [
        "df.info() #Displaying a concise summary of the DataFrame, including data types and non-null counts."
      ],
      "metadata": {
        "id": "CnKfBNu45Yvr",
        "outputId": "5f740c9a-2b26-43d1-f6b9-301db43fd0b9",
        "colab": {
          "base_uri": "https://localhost:8080/"
        }
      },
      "execution_count": null,
      "outputs": [
        {
          "output_type": "stream",
          "name": "stdout",
          "text": [
            "<class 'pandas.core.frame.DataFrame'>\n",
            "RangeIndex: 1728 entries, 0 to 1727\n",
            "Data columns (total 7 columns):\n",
            " #   Column             Non-Null Count  Dtype \n",
            "---  ------             --------------  ----- \n",
            " 0   Buying_Price       1728 non-null   object\n",
            " 1   Maintenance_Price  1728 non-null   object\n",
            " 2   No_of_Doors        1728 non-null   object\n",
            " 3   Person_Capacity    1728 non-null   object\n",
            " 4   Size_of_Luggage    1728 non-null   object\n",
            " 5   Safety             1728 non-null   object\n",
            " 6   Car_Acceptability  1728 non-null   object\n",
            "dtypes: object(7)\n",
            "memory usage: 94.6+ KB\n"
          ]
        }
      ]
    },
    {
      "cell_type": "code",
      "source": [
        "# Encode categorical features\n",
        "encoder = OneHotEncoder(drop='first')  # drop='first' to avoid multicollinearity\n",
        "encoded_features = encoder.fit_transform(df.drop('Car_Acceptability', axis=1))"
      ],
      "metadata": {
        "id": "toG9wGrjATX_"
      },
      "execution_count": null,
      "outputs": []
    },
    {
      "cell_type": "markdown",
      "source": [
        "### OneHotEncoder is used to convert categorical features into a binary format, making them suitable for machine learning algorithms.\n",
        "### The parameter drop='first' is specified to avoid the dummy variable trap by excluding the first category of each feature.\n",
        "### The fit_transform method fits the encoder to the data and transforms it, creating new binary columns for each category.\n",
        "\n"
      ],
      "metadata": {
        "id": "rq3eJxDurm8I"
      }
    },
    {
      "cell_type": "code",
      "source": [
        "# Split data\n",
        "X_train, X_test, y_train, y_test = train_test_split(encoded_features, df['Car_Acceptability'], test_size=0.2, random_state=42)\n"
      ],
      "metadata": {
        "id": "-xwSR5JkAh4R"
      },
      "execution_count": null,
      "outputs": []
    },
    {
      "cell_type": "markdown",
      "source": [
        "### train_test_split is used to divide the dataset into training and testing sets.\n",
        "### encoded_features contains the transformed features, and df['Car_Acceptability'] is the target variable.\n",
        "### test_size=0.2 indicates that 20% of the data is reserved for testing, which helps evaluate the model's generalization ability.\n",
        "### random_state=42 ensures reproducibility by setting a seed for the random number generator.\n"
      ],
      "metadata": {
        "id": "71ipjqUrs2UU"
      }
    },
    {
      "cell_type": "code",
      "source": [
        "# Build the model\n",
        "model = LogisticRegression(max_iter=1000)\n",
        "model.fit(X_train, y_train)"
      ],
      "metadata": {
        "colab": {
          "base_uri": "https://localhost:8080/",
          "height": 75
        },
        "id": "EuBwf3bIAo4i",
        "outputId": "6f37de6c-730e-4f9c-a339-169fafbf82ff"
      },
      "execution_count": null,
      "outputs": [
        {
          "output_type": "execute_result",
          "data": {
            "text/plain": [
              "LogisticRegression(max_iter=1000)"
            ],
            "text/html": [
              "<style>#sk-container-id-1 {color: black;background-color: white;}#sk-container-id-1 pre{padding: 0;}#sk-container-id-1 div.sk-toggleable {background-color: white;}#sk-container-id-1 label.sk-toggleable__label {cursor: pointer;display: block;width: 100%;margin-bottom: 0;padding: 0.3em;box-sizing: border-box;text-align: center;}#sk-container-id-1 label.sk-toggleable__label-arrow:before {content: \"▸\";float: left;margin-right: 0.25em;color: #696969;}#sk-container-id-1 label.sk-toggleable__label-arrow:hover:before {color: black;}#sk-container-id-1 div.sk-estimator:hover label.sk-toggleable__label-arrow:before {color: black;}#sk-container-id-1 div.sk-toggleable__content {max-height: 0;max-width: 0;overflow: hidden;text-align: left;background-color: #f0f8ff;}#sk-container-id-1 div.sk-toggleable__content pre {margin: 0.2em;color: black;border-radius: 0.25em;background-color: #f0f8ff;}#sk-container-id-1 input.sk-toggleable__control:checked~div.sk-toggleable__content {max-height: 200px;max-width: 100%;overflow: auto;}#sk-container-id-1 input.sk-toggleable__control:checked~label.sk-toggleable__label-arrow:before {content: \"▾\";}#sk-container-id-1 div.sk-estimator input.sk-toggleable__control:checked~label.sk-toggleable__label {background-color: #d4ebff;}#sk-container-id-1 div.sk-label input.sk-toggleable__control:checked~label.sk-toggleable__label {background-color: #d4ebff;}#sk-container-id-1 input.sk-hidden--visually {border: 0;clip: rect(1px 1px 1px 1px);clip: rect(1px, 1px, 1px, 1px);height: 1px;margin: -1px;overflow: hidden;padding: 0;position: absolute;width: 1px;}#sk-container-id-1 div.sk-estimator {font-family: monospace;background-color: #f0f8ff;border: 1px dotted black;border-radius: 0.25em;box-sizing: border-box;margin-bottom: 0.5em;}#sk-container-id-1 div.sk-estimator:hover {background-color: #d4ebff;}#sk-container-id-1 div.sk-parallel-item::after {content: \"\";width: 100%;border-bottom: 1px solid gray;flex-grow: 1;}#sk-container-id-1 div.sk-label:hover label.sk-toggleable__label {background-color: #d4ebff;}#sk-container-id-1 div.sk-serial::before {content: \"\";position: absolute;border-left: 1px solid gray;box-sizing: border-box;top: 0;bottom: 0;left: 50%;z-index: 0;}#sk-container-id-1 div.sk-serial {display: flex;flex-direction: column;align-items: center;background-color: white;padding-right: 0.2em;padding-left: 0.2em;position: relative;}#sk-container-id-1 div.sk-item {position: relative;z-index: 1;}#sk-container-id-1 div.sk-parallel {display: flex;align-items: stretch;justify-content: center;background-color: white;position: relative;}#sk-container-id-1 div.sk-item::before, #sk-container-id-1 div.sk-parallel-item::before {content: \"\";position: absolute;border-left: 1px solid gray;box-sizing: border-box;top: 0;bottom: 0;left: 50%;z-index: -1;}#sk-container-id-1 div.sk-parallel-item {display: flex;flex-direction: column;z-index: 1;position: relative;background-color: white;}#sk-container-id-1 div.sk-parallel-item:first-child::after {align-self: flex-end;width: 50%;}#sk-container-id-1 div.sk-parallel-item:last-child::after {align-self: flex-start;width: 50%;}#sk-container-id-1 div.sk-parallel-item:only-child::after {width: 0;}#sk-container-id-1 div.sk-dashed-wrapped {border: 1px dashed gray;margin: 0 0.4em 0.5em 0.4em;box-sizing: border-box;padding-bottom: 0.4em;background-color: white;}#sk-container-id-1 div.sk-label label {font-family: monospace;font-weight: bold;display: inline-block;line-height: 1.2em;}#sk-container-id-1 div.sk-label-container {text-align: center;}#sk-container-id-1 div.sk-container {/* jupyter's `normalize.less` sets `[hidden] { display: none; }` but bootstrap.min.css set `[hidden] { display: none !important; }` so we also need the `!important` here to be able to override the default hidden behavior on the sphinx rendered scikit-learn.org. See: https://github.com/scikit-learn/scikit-learn/issues/21755 */display: inline-block !important;position: relative;}#sk-container-id-1 div.sk-text-repr-fallback {display: none;}</style><div id=\"sk-container-id-1\" class=\"sk-top-container\"><div class=\"sk-text-repr-fallback\"><pre>LogisticRegression(max_iter=1000)</pre><b>In a Jupyter environment, please rerun this cell to show the HTML representation or trust the notebook. <br />On GitHub, the HTML representation is unable to render, please try loading this page with nbviewer.org.</b></div><div class=\"sk-container\" hidden><div class=\"sk-item\"><div class=\"sk-estimator sk-toggleable\"><input class=\"sk-toggleable__control sk-hidden--visually\" id=\"sk-estimator-id-1\" type=\"checkbox\" checked><label for=\"sk-estimator-id-1\" class=\"sk-toggleable__label sk-toggleable__label-arrow\">LogisticRegression</label><div class=\"sk-toggleable__content\"><pre>LogisticRegression(max_iter=1000)</pre></div></div></div></div></div>"
            ]
          },
          "metadata": {},
          "execution_count": 6
        }
      ]
    },
    {
      "cell_type": "markdown",
      "source": [
        "### LogisticRegression is chosen for its ability to model binary classification problems.\n",
        "### max_iter=1000 increases the maximum number of iterations, allowing the solver more time to converge, which can be important for larger or more complex datasets.\n",
        "### The fit method trains the model on the training data (X_train, y_train), learning the relationship between the features and the target variable.\n",
        "\n"
      ],
      "metadata": {
        "id": "ztIX51MntaZO"
      }
    },
    {
      "cell_type": "code",
      "source": [
        "# Predictions\n",
        "y_pred = model.predict(X_test)"
      ],
      "metadata": {
        "id": "jstKLLSGArci"
      },
      "execution_count": null,
      "outputs": []
    },
    {
      "cell_type": "markdown",
      "source": [
        "### The predict method uses the trained Logistic Regression model to make predictions on the test data (X_test).\n",
        "### y_pred contains the predicted labels, which will be compared against the actual labels (y_test) to assess the model's accuracy and other metrics.\n",
        "\n"
      ],
      "metadata": {
        "id": "P5gDfbaqvkLB"
      }
    },
    {
      "cell_type": "code",
      "source": [
        "# Evaluate\n",
        "print(classification_report(y_test, y_pred))\n",
        "print('Accuracy:', accuracy_score(y_test, y_pred))"
      ],
      "metadata": {
        "colab": {
          "base_uri": "https://localhost:8080/"
        },
        "id": "VNmFpfDNAtzr",
        "outputId": "be743bcd-2cd1-4f22-e088-711b292c5f54"
      },
      "execution_count": null,
      "outputs": [
        {
          "output_type": "stream",
          "name": "stdout",
          "text": [
            "              precision    recall  f1-score   support\n",
            "\n",
            "         acc       0.80      0.78      0.79        83\n",
            "        good       0.45      0.45      0.45        11\n",
            "       unacc       0.95      0.97      0.96       235\n",
            "       vgood       0.93      0.76      0.84        17\n",
            "\n",
            "    accuracy                           0.90       346\n",
            "   macro avg       0.78      0.74      0.76       346\n",
            "weighted avg       0.90      0.90      0.90       346\n",
            "\n",
            "Accuracy: 0.8988439306358381\n"
          ]
        }
      ]
    },
    {
      "cell_type": "markdown",
      "source": [
        "### classification_report provides a comprehensive overview of the model's performance, including metrics like precision, recall, and F1-score for each class.\n",
        "### Precision measures the accuracy of positive predictions, recall measures the ability to find all positive instances, and F1-score balances precision and recall.\n",
        "### The report helps in understanding the model's strengths and weaknesses, particularly in cases of class imbalance.\n",
        "### accuracy_score calculates the overall accuracy, representing the proportion of correctly predicted instances out of the total.\n",
        "\n"
      ],
      "metadata": {
        "id": "sbRUx0gKv57v"
      }
    },
    {
      "cell_type": "code",
      "source": [
        "accuracy = accuracy_score(y_test, y_pred)\n",
        "print(f'Accuracy: {accuracy * 100:.2f}%')"
      ],
      "metadata": {
        "colab": {
          "base_uri": "https://localhost:8080/"
        },
        "id": "p7363erTAwiL",
        "outputId": "6bee4ab6-25ba-4a1a-d75c-f47f61301d68"
      },
      "execution_count": null,
      "outputs": [
        {
          "output_type": "stream",
          "name": "stdout",
          "text": [
            "Accuracy: 89.88%\n"
          ]
        }
      ]
    },
    {
      "cell_type": "markdown",
      "source": [
        "### accuracy_score calculates the proportion of correctly predicted instances out of the total instances in the test set.\n",
        "### The result is multiplied by 100 to express the accuracy as a percentage, making it easier to interpret.\n",
        "### This metric provides a general sense of how well the model is performing, but should be considered alongside other metrics like precision and recall, especially if the data is imbalanced.\n",
        "\n"
      ],
      "metadata": {
        "id": "hTdBqOekwMMA"
      }
    }
  ]
}